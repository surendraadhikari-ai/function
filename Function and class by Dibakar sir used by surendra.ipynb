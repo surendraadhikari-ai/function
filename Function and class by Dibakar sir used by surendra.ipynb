{
 "cells": [
  {
   "cell_type": "markdown",
   "metadata": {},
   "source": [
    "# Functions and classes"
   ]
  },
  {
   "cell_type": "markdown",
   "metadata": {},
   "source": [
    "### Function and class are required for object oriented programming. Functions, once created, can be implemented multiple times while class is more useful for both data encaptulation and functions"
   ]
  },
  {
   "cell_type": "code",
   "execution_count": 2,
   "metadata": {},
   "outputs": [],
   "source": [
    "import numpy as np\n",
    "import random as random"
   ]
  },
  {
   "cell_type": "markdown",
   "metadata": {},
   "source": [
    "# markdown"
   ]
  },
  {
   "cell_type": "code",
   "execution_count": 3,
   "metadata": {},
   "outputs": [
    {
     "data": {
      "text/plain": [
       "5"
      ]
     },
     "execution_count": 3,
     "metadata": {},
     "output_type": "execute_result"
    }
   ],
   "source": [
    "sum([2,3])"
   ]
  },
  {
   "cell_type": "code",
   "execution_count": 4,
   "metadata": {},
   "outputs": [],
   "source": [
    "def printer(message):\n",
    "    print(\"your message is:\",message)\n",
    "    return"
   ]
  },
  {
   "cell_type": "code",
   "execution_count": 5,
   "metadata": {},
   "outputs": [
    {
     "name": "stdout",
     "output_type": "stream",
     "text": [
      "your message is: how are you?\n"
     ]
    }
   ],
   "source": [
    "printer(\"how are you?\")"
   ]
  },
  {
   "cell_type": "code",
   "execution_count": 8,
   "metadata": {},
   "outputs": [
    {
     "name": "stdout",
     "output_type": "stream",
     "text": [
      "your message is: 0\n",
      "your message is: 1\n",
      "your message is: 2\n",
      "your message is: 3\n",
      "your message is: 4\n",
      "your message is: 5\n",
      "your message is: 6\n",
      "your message is: 7\n",
      "your message is: 8\n",
      "your message is: 9\n"
     ]
    }
   ],
   "source": [
    "for i in range(10):\n",
    "    printer(i)"
   ]
  },
  {
   "cell_type": "code",
   "execution_count": 17,
   "metadata": {},
   "outputs": [],
   "source": [
    "def list2dict(L):\n",
    "    D = {}\n",
    "    for e in L:\n",
    "        D.update({e:L.index(e)})\n",
    "    return D"
   ]
  },
  {
   "cell_type": "code",
   "execution_count": 23,
   "metadata": {},
   "outputs": [
    {
     "data": {
      "text/plain": [
       "{35: 0, 36: 1, 45: 2, 47: 3, 7: 4, 77: 5}"
      ]
     },
     "execution_count": 23,
     "metadata": {},
     "output_type": "execute_result"
    }
   ],
   "source": [
    "mylist = [35,36,45,47,7,77]\n",
    "list2dict(mylist)"
   ]
  },
  {
   "cell_type": "code",
   "execution_count": 19,
   "metadata": {},
   "outputs": [],
   "source": [
    "def dice(N):\n",
    "    roll = []\n",
    "    for r in range(N):\n",
    "        s = random.choice([1,2,3,4,5,6])\n",
    "        roll.append(s)\n",
    "    return roll"
   ]
  },
  {
   "cell_type": "code",
   "execution_count": 24,
   "metadata": {},
   "outputs": [
    {
     "name": "stdout",
     "output_type": "stream",
     "text": [
      "[4, 4, 6, 4, 6, 6, 3, 5, 4, 5, 3, 1, 4, 2, 4, 5, 1, 5, 6, 1, 6, 4, 6, 2, 2, 1, 1, 1, 3, 1, 3, 6, 3, 2, 6, 1, 5, 6, 6, 6, 2, 5, 5, 4, 5, 2, 4, 5, 2, 6, 5, 4, 4, 2, 2, 4, 2, 3, 5, 2, 3, 3, 4, 4, 5, 1, 2, 6, 2, 5, 5, 6, 4, 3, 1, 3, 4, 2, 5, 4, 3, 5, 4, 2, 5, 3, 1, 3, 6, 6, 1, 6, 6, 1, 2, 3, 5, 6, 3, 1]\n"
     ]
    }
   ],
   "source": [
    "print(dice(100))"
   ]
  },
  {
   "cell_type": "code",
   "execution_count": null,
   "metadata": {},
   "outputs": [],
   "source": []
  }
 ],
 "metadata": {
  "kernelspec": {
   "display_name": "Python 3",
   "language": "python",
   "name": "python3"
  },
  "language_info": {
   "codemirror_mode": {
    "name": "ipython",
    "version": 3
   },
   "file_extension": ".py",
   "mimetype": "text/x-python",
   "name": "python",
   "nbconvert_exporter": "python",
   "pygments_lexer": "ipython3",
   "version": "3.7.6"
  }
 },
 "nbformat": 4,
 "nbformat_minor": 4
}
